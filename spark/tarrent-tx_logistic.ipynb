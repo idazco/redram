{
 "cells": [
  {
   "cell_type": "code",
   "execution_count": 1,
   "outputs": [
    {
     "name": "stderr",
     "output_type": "stream",
     "text": [
      "Setting default log level to \"WARN\".\n",
      "To adjust logging level use sc.setLogLevel(newLevel). For SparkR, use setLogLevel(newLevel).\n",
      "23/06/20 17:12:00 WARN NativeCodeLoader: Unable to load native-hadoop library for your platform... using builtin-java classes where applicable\n"
     ]
    }
   ],
   "source": [
    "# Get the data from the parquet file\n",
    "\n",
    "from pyspark.sql import SparkSession\n",
    "# memory issues .. see https://stackoverflow.com/questions/21138751/spark-java-lang-outofmemoryerror-java-heap-space\n",
    "spark = SparkSession.builder.master(\"local[*]\") \\\n",
    "    .config(\"spark.executor.memory\", \"12g\") \\\n",
    "    .config(\"spark.driver.memory\", \"12g\") \\\n",
    "    .config(\"spark.memory.offHeap.enabled\", True).config(\"spark.memory.offHeap.size\",\"8g\") \\\n",
    "    .appName(\"PropertyData\").getOrCreate()\n",
    "spark.conf.set(\"spark.sql.repl.eagerEval.enabled\", True) # Property used to format output tables better\n",
    "spark\n",
    "df = spark.read.parquet(\"/tmp/spark/tarrant-tx.parquet\")\n",
    "\n",
    "# Property used to format output tables better\n",
    "# spark.conf.set(\"spark.sql.repl.eagerEval.enabled\", True)"
   ],
   "metadata": {
    "collapsed": false,
    "ExecuteTime": {
     "end_time": "2023-06-20T22:12:02.457114122Z",
     "start_time": "2023-06-20T22:11:59.336296396Z"
    }
   }
  },
  {
   "cell_type": "code",
   "execution_count": 2,
   "outputs": [
    {
     "name": "stderr",
     "output_type": "stream",
     "text": [
      "23/06/20 17:12:19 WARN InstanceBuilder: Failed to load implementation from:dev.ludovic.netlib.blas.VectorBLAS\n",
      "23/06/20 17:20:02 WARN DAGScheduler: Broadcasting large task binary with size 11.2 MiB\n",
      "[Stage 38:>                                                         (0 + 1) / 1]\r"
     ]
    },
    {
     "name": "stdout",
     "output_type": "stream",
     "text": [
      "Accuracy: 1.0\n"
     ]
    },
    {
     "name": "stderr",
     "output_type": "stream",
     "text": [
      "                                                                                \r"
     ]
    }
   ],
   "source": [
    "from pyspark.ml.classification import LogisticRegression\n",
    "from pyspark.ml.feature import VectorAssembler\n",
    "from pyspark.ml.evaluation import BinaryClassificationEvaluator\n",
    "\n",
    "subset = [\n",
    "    'Account_Num',  # <-- used later for analysis correlating to the original dataframe\n",
    "    'Total_Value', 'Appraised_Value_Int', 'Swimming_Pool_Ind_bin'\n",
    "]\n",
    "\n",
    "# large DF causes \"java.lang.NegativeArraySizeException\"\n",
    "logistic_df = df.select(*subset)\n",
    "# and keep only those rows that are residential properties in a certain value range\n",
    "logistic_df = logistic_df.where(\"(Total_Value between 100000 and 500000) and (RP = 'R')\").limit(100)\n",
    "\n",
    "logistic_features = ['Total_Value', 'Swimming_Pool_Ind_bin']\n",
    "\n",
    "model_logistic = LogisticRegression(featuresCol=\"features\", labelCol=\"Appraised_Value_Int\", maxIter=2)\n",
    "\n",
    "# Train\n",
    "assembler = VectorAssembler(inputCols=logistic_features, outputCol='features')\n",
    "train_logistic, test_logistic = assembler.transform(logistic_df).randomSplit([0.5, 0.5])\n",
    "logistic_trained_model = model_logistic.fit(train_logistic)\n",
    "\n",
    "# Evaluate\n",
    "predictions = logistic_trained_model.transform(test_logistic)\n",
    "evaluator = BinaryClassificationEvaluator(labelCol='Appraised_Value_Int', rawPredictionCol='prediction')\n",
    "accuracy = evaluator.evaluate(predictions)\n",
    "\n",
    "# Print the accuracy\n",
    "print(f\"Accuracy: {accuracy}\")"
   ],
   "metadata": {
    "collapsed": false,
    "ExecuteTime": {
     "end_time": "2023-06-20T22:20:06.386952896Z",
     "start_time": "2023-06-20T22:12:16.559430745Z"
    }
   }
  },
  {
   "cell_type": "code",
   "execution_count": 3,
   "outputs": [],
   "source": [
    "from pyspark.sql.functions import col\n",
    "from udfs import percent_diff_udf\n",
    "\n",
    "# cast the predictions to integer and show the difference as integer and percentage\n",
    "predictions = predictions.withColumn('prediction_int', predictions['prediction'].cast('int'))\n",
    "predictions = predictions.drop('prediction')\n",
    "predictions = predictions.withColumn('diff', col('Appraised_Value_Int') - col('prediction_int'))\n",
    "predictions = predictions.withColumn('diff_percent', percent_diff_udf(col('prediction_int'), col('Appraised_Value_Int')))\n",
    "\n",
    "# create the views\n",
    "predictions.select('Account_Num', 'prediction_int', 'diff', 'diff_percent').createOrReplaceTempView(\"predictions\")\n",
    "df.createOrReplaceTempView(\"data\")"
   ],
   "metadata": {
    "collapsed": false,
    "ExecuteTime": {
     "end_time": "2023-06-20T22:20:46.934664233Z",
     "start_time": "2023-06-20T22:20:46.848414464Z"
    }
   }
  },
  {
   "cell_type": "code",
   "execution_count": 6,
   "outputs": [
    {
     "name": "stderr",
     "output_type": "stream",
     "text": [
      "23/06/20 17:26:33 WARN DAGScheduler: Broadcasting large task binary with size 11.2 MiB\n",
      "23/06/20 17:26:36 WARN DAGScheduler: Broadcasting large task binary with size 11.2 MiB\n",
      "23/06/20 17:26:36 WARN DAGScheduler: Broadcasting large task binary with size 11.2 MiB\n",
      "23/06/20 17:26:36 WARN DAGScheduler: Broadcasting large task binary with size 11.2 MiB\n",
      "23/06/20 17:26:36 WARN DAGScheduler: Broadcasting large task binary with size 11.2 MiB\n"
     ]
    },
    {
     "data": {
      "text/plain": "<Figure size 640x480 with 1 Axes>",
      "image/png": "[encoded data removed]"
     },
     "metadata": {},
     "output_type": "display_data"
    }
   ],
   "source": [
    "# let's take a look at some of the data\n",
    "# we group the diff_percent values so there aren't too many records to graph\n",
    "# also, here we are just looking at residential properties\n",
    "\n",
    "query = \"\"\"\n",
    "with summary as (\n",
    "  with src as (\n",
    "    select FLOOR(CAST(diff_percent as INT) / 20) * 20 AS diff_group\n",
    "    from predictions\n",
    "    join data on data.Account_Num = predictions.Account_Num\n",
    "  )\n",
    "  select count(diff_group) as count, diff_group from src group by 2 order by 2 desc\n",
    ")\n",
    "select count, diff_group from summary where count > 100\n",
    "\"\"\"\n",
    "res = spark.sql(query)\n",
    "\n",
    "# graph it show how the predictions differ from the current appraisal values\n",
    "import matplotlib.pyplot as plt\n",
    "pandas_df = res.toPandas()\n",
    "plt.bar(pandas_df['diff_group'], pandas_df['count'], color='blue', width=8)\n",
    "plt.xlabel('diff_group')\n",
    "plt.ylabel('count')\n",
    "plt.title('Prediction Diff (longest line should be over \"0\")') # .. which would indicate more accurate prediction\n",
    "plt.show()"
   ],
   "metadata": {
    "collapsed": false,
    "ExecuteTime": {
     "end_time": "2023-06-20T22:26:36.783365374Z",
     "start_time": "2023-06-20T22:26:32.889685479Z"
    }
   }
  }
 ],
 "metadata": {
  "kernelspec": {
   "display_name": "Python 3",
   "language": "python",
   "name": "python3"
  },
  "language_info": {
   "codemirror_mode": {
    "name": "ipython",
    "version": 2
   },
   "file_extension": ".py",
   "mimetype": "text/x-python",
   "name": "python",
   "nbconvert_exporter": "python",
   "pygments_lexer": "ipython2",
   "version": "2.7.6"
  }
 },
 "nbformat": 4,
 "nbformat_minor": 0
}
