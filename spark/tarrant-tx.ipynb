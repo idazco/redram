{
 "cells": [
  {
   "attachments": {},
   "cell_type": "markdown",
   "metadata": {},
   "source": [
    "File: data-samples/tarrant-tx.csv  \n",
    "Source: https://www.tad.org/data-reports\n",
    "\n",
    "## Get the data from the website into a data-frame\n",
    "1. The only clean-up we're doing here is making sure the string data is trimmed\n",
    "2. The part is idempotent - after running it at least once, delete /tmp/spark/PropertyData.txt to have it use fresh data from the download source"
   ]
  },
  {
   "cell_type": "code",
   "execution_count": 10,
   "metadata": {},
   "outputs": [
    {
     "name": "stderr",
     "output_type": "stream",
     "text": [
      "23/06/12 23:00:56 WARN SparkSession: Using an existing Spark session; only runtime SQL configurations will take effect.\n"
     ]
    },
    {
     "name": "stdout",
     "output_type": "stream",
     "text": [
      "Using existing property file\n"
     ]
    },
    {
     "name": "stderr",
     "output_type": "stream",
     "text": [
      "                                                                                \r"
     ]
    }
   ],
   "source": [
    "import requests, zipfile, io, os\n",
    "import findspark\n",
    "findspark.init()\n",
    "import pyspark\n",
    "from pyspark.sql import SparkSession\n",
    "from pyspark.sql.functions import monotonically_increasing_id, trim, col\n",
    "\n",
    "spark = SparkSession.builder.master(\"local[1]\").appName(\"PropertyData\").getOrCreate()\n",
    "zip_url = \"https://www.tad.org/content/data-download/PropertyData(Delimited).ZIP\"\n",
    "source_file = \"/tmp/spark/PropertyData.txt\"\n",
    "\n",
    "if os.path.isfile(source_file):\n",
    "    print(\"Using existing property file\")\n",
    "else:\n",
    "    download_url = \"/tmp/spark/\"\n",
    "    r = requests.get(zip_url)\n",
    "    z = zipfile.ZipFile(io.BytesIO(r.content))\n",
    "    z.extractall(download_url)\n",
    "\n",
    "df = spark.read.csv(source_file, sep=\"|\", header=True, inferSchema=True)\n",
    "df = df.withColumn('id', monotonically_increasing_id())\n",
    "df = df[['id'] + df.columns[:-1]]   # move id column to front\n",
    "for name, dtype in df.dtypes:       # trim all string columns\n",
    "    if dtype == \"string\":\n",
    "        df = df.withColumn(name, trim(col(name)))"
   ]
  },
  {
   "attachments": {},
   "cell_type": "markdown",
   "metadata": {},
   "source": [
    "## Start the training.\n",
    "1. Specify numeric values for learning.\n",
    "2. Specify categorical values for learning."
   ]
  },
  {
   "cell_type": "code",
   "execution_count": 11,
   "metadata": {
    "ExecuteTime": {
     "end_time": "2023-06-13T03:39:01.929598572Z",
     "start_time": "2023-06-13T03:39:01.911742173Z"
    }
   },
   "outputs": [
    {
     "ename": "ModuleNotFoundError",
     "evalue": "No module named 'pyspark.ml.features'",
     "output_type": "error",
     "traceback": [
      "\u001B[0;31m---------------------------------------------------------------------------\u001B[0m",
      "\u001B[0;31mModuleNotFoundError\u001B[0m                       Traceback (most recent call last)",
      "Cell \u001B[0;32mIn[11], line 7\u001B[0m\n\u001B[1;32m      1\u001B[0m train, test \u001B[39m=\u001B[39m df\u001B[39m.\u001B[39mrandomSplit([\u001B[39m0.7\u001B[39m, \u001B[39m0.3\u001B[39m])\n\u001B[1;32m      2\u001B[0m numerical_features \u001B[39m=\u001B[39m [\u001B[39m'\u001B[39m\u001B[39mAppraisal_Year\u001B[39m\u001B[39m'\u001B[39m, \u001B[39m'\u001B[39m\u001B[39mCounty\u001B[39m\u001B[39m'\u001B[39m, \u001B[39m'\u001B[39m\u001B[39mCity\u001B[39m\u001B[39m'\u001B[39m, \u001B[39m'\u001B[39m\u001B[39mSchool\u001B[39m\u001B[39m'\u001B[39m, \u001B[39m'\u001B[39m\u001B[39mNum_Special_Dist\u001B[39m\u001B[39m'\u001B[39m, \u001B[39m'\u001B[39m\u001B[39mSpec1\u001B[39m\u001B[39m'\u001B[39m, \u001B[39m'\u001B[39m\u001B[39mSpec2\u001B[39m\u001B[39m'\u001B[39m,\n\u001B[1;32m      3\u001B[0m                       \u001B[39m'\u001B[39m\u001B[39mSpec3\u001B[39m\u001B[39m'\u001B[39m, \u001B[39m'\u001B[39m\u001B[39mSpec4\u001B[39m\u001B[39m'\u001B[39m, \u001B[39m'\u001B[39m\u001B[39mLand_Value\u001B[39m\u001B[39m'\u001B[39m, \u001B[39m'\u001B[39m\u001B[39mImprovement_Value\u001B[39m\u001B[39m'\u001B[39m, \u001B[39m'\u001B[39m\u001B[39mTotal_Value\u001B[39m\u001B[39m'\u001B[39m, \u001B[39m'\u001B[39m\u001B[39mGarage_Capacity\u001B[39m\u001B[39m'\u001B[39m,\n\u001B[1;32m      4\u001B[0m                       \u001B[39m'\u001B[39m\u001B[39mNum_Bedrooms\u001B[39m\u001B[39m'\u001B[39m, \u001B[39m'\u001B[39m\u001B[39mNum_Bathrooms\u001B[39m\u001B[39m'\u001B[39m, \u001B[39m'\u001B[39m\u001B[39mYear_Built\u001B[39m\u001B[39m'\u001B[39m, \u001B[39m'\u001B[39m\u001B[39mLiving_Area\u001B[39m\u001B[39m'\u001B[39m, \u001B[39m'\u001B[39m\u001B[39mLand_Acres\u001B[39m\u001B[39m'\u001B[39m, \u001B[39m'\u001B[39m\u001B[39mLand_SqFt\u001B[39m\u001B[39m'\u001B[39m,\n\u001B[1;32m      5\u001B[0m                       \u001B[39m'\u001B[39m\u001B[39mAg_Acres\u001B[39m\u001B[39m'\u001B[39m, \u001B[39m'\u001B[39m\u001B[39mAg_Value\u001B[39m\u001B[39m'\u001B[39m, \u001B[39m'\u001B[39m\u001B[39mStructure_Count\u001B[39m\u001B[39m'\u001B[39m,]\n\u001B[0;32m----> 7\u001B[0m \u001B[39mfrom\u001B[39;00m \u001B[39mpyspark\u001B[39;00m\u001B[39m.\u001B[39;00m\u001B[39mml\u001B[39;00m\u001B[39m.\u001B[39;00m\u001B[39mfeatures\u001B[39;00m \u001B[39mimport\u001B[39;00m Imputer\n\u001B[1;32m      8\u001B[0m imputer \u001B[39m=\u001B[39m Imputer(inputCols\u001B[39m=\u001B[39mnumerical_features, outputCols\u001B[39m=\u001B[39mnumerical_features)\n\u001B[1;32m      9\u001B[0m imputer \u001B[39m=\u001B[39m imputer\u001B[39m.\u001B[39mfit(train)\n",
      "\u001B[0;31mModuleNotFoundError\u001B[0m: No module named 'pyspark.ml.features'"
     ]
    }
   ],
   "source": [
    "train, test = df.randomSplit([0.7, 0.3])\n",
    "numerical_features = ['Appraisal_Year', 'County', 'City', 'School', 'Num_Special_Dist', 'Spec1', 'Spec2',\n",
    "                      'Spec3', 'Spec4', 'Land_Value', 'Improvement_Value', 'Total_Value', 'Garage_Capacity',\n",
    "                      'Num_Bedrooms', 'Num_Bathrooms', 'Year_Built', 'Living_Area', 'Land_Acres', 'Land_SqFt',\n",
    "                      'Ag_Acres', 'Ag_Value', 'Structure_Count',]\n",
    "\n",
    "from pyspark.ml.features import Imputer\n",
    "imputer = Imputer(inputCols=numerical_features, outputCols=numerical_features)\n",
    "imputer = imputer.fit(train)\n",
    "train = imputer.transform(train)\n",
    "test = imputer.transform(test)"
   ]
  },
  {
   "cell_type": "code",
   "execution_count": 16,
   "metadata": {
    "ExecuteTime": {
     "end_time": "2023-06-13T03:39:07.738647587Z",
     "start_time": "2023-06-13T03:39:07.328372554Z"
    }
   },
   "outputs": [],
   "source": [
    "spark.stop()"
   ]
  },
  {
   "cell_type": "code",
   "execution_count": null,
   "metadata": {},
   "outputs": [],
   "source": []
  }
 ],
 "metadata": {
  "kernelspec": {
   "display_name": "Python 3 (ipykernel)",
   "language": "python",
   "name": "python3"
  },
  "language_info": {
   "codemirror_mode": {
    "name": "ipython",
    "version": 3
   },
   "file_extension": ".py",
   "mimetype": "text/x-python",
   "name": "python",
   "nbconvert_exporter": "python",
   "pygments_lexer": "ipython3",
   "version": "3.10.6"
  }
 },
 "nbformat": 4,
 "nbformat_minor": 1
}
