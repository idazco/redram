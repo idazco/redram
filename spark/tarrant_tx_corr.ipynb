{
 "cells": [
  {
   "cell_type": "markdown",
   "source": [
    "## Find the Correlations"
   ],
   "metadata": {
    "collapsed": false
   }
  },
  {
   "cell_type": "code",
   "execution_count": null,
   "metadata": {
    "collapsed": true
   },
   "outputs": [],
   "source": [
    "from pyspark.sql import SparkSession\n",
    "\n",
    "# memory issues .. see https://stackoverflow.com/questions/21138751/spark-java-lang-outofmemoryerror-java-heap-space\n",
    "spark = SparkSession.builder.master(\"local[*]\").appName(\"PropertyData\").getOrCreate()\n",
    "spark.conf.set(\"spark.sql.repl.eagerEval.enabled\", True) # Property used to format output tables better\n",
    "spark\n",
    "df = spark.read.parquet(\"/tmp/spark/tarrant-tx.parquet\")\n",
    "\n",
    "# Property used to format output tables better\n",
    "spark.conf.set(\"spark.sql.repl.eagerEval.enabled\", True)"
   ]
  },
  {
   "cell_type": "code",
   "execution_count": null,
   "outputs": [],
   "source": [
    "potential_feature_cols = [\n",
    "    'County', 'City', 'School', 'Num_Special_Dist', 'Spec1', 'Spec2', 'Spec3', 'Spec4', 'Spec5',\n",
    "    'Land_Value', 'Improvement_Value', 'Total_Value', 'Garage_Capacity', 'Year_Built', 'Living_Area',\n",
    "    'Land_Acres', 'Land_SqFt', 'Ag_Acres', 'Ag_Value', 'Swimming_Pool_Ind_idx', 'Central_Heat_Ind_idx',\n",
    "    'Central_Air_Ind_idx',\n",
    "]\n",
    "target_col = 'Appraised_Value_Int'\n",
    "correlation_results = {}\n",
    "for feature_column in potential_feature_cols:\n",
    "    correlation = df.stat.corr(feature_column, target_col)\n",
    "    correlation_results[feature_column] = int(correlation * 100)\n",
    "\n",
    "print('Correlation between:')\n",
    "for feature_column, correlation in correlation_results.items():\n",
    "    print(f\"- {feature_column} and {target_col}: {correlation}%\")\n"
   ],
   "metadata": {
    "collapsed": false
   }
  }
 ],
 "metadata": {
  "kernelspec": {
   "display_name": "Python 3",
   "language": "python",
   "name": "python3"
  },
  "language_info": {
   "codemirror_mode": {
    "name": "ipython",
    "version": 2
   },
   "file_extension": ".py",
   "mimetype": "text/x-python",
   "name": "python",
   "nbconvert_exporter": "python",
   "pygments_lexer": "ipython2",
   "version": "2.7.6"
  }
 },
 "nbformat": 4,
 "nbformat_minor": 0
}
