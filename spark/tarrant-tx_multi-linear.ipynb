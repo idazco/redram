{
 "cells": [
  {
   "cell_type": "code",
   "execution_count": 1,
   "outputs": [
    {
     "name": "stderr",
     "output_type": "stream",
     "text": [
      "Setting default log level to \"WARN\".\n",
      "To adjust logging level use sc.setLogLevel(newLevel). For SparkR, use setLogLevel(newLevel).\n",
      "23/06/19 16:32:39 WARN NativeCodeLoader: Unable to load native-hadoop library for your platform... using builtin-java classes where applicable\n",
      "23/06/19 16:32:40 WARN Utils: Service 'SparkUI' could not bind on port 4040. Attempting port 4041.\n"
     ]
    }
   ],
   "source": [
    "# Get the data from the parquet file\n",
    "\n",
    "from pyspark.sql import SparkSession\n",
    "# memory issues .. see https://stackoverflow.com/questions/21138751/spark-java-lang-outofmemoryerror-java-heap-space\n",
    "spark = SparkSession.builder.master(\"local[*]\").appName(\"PropertyData\").getOrCreate()\n",
    "spark.conf.set(\"spark.sql.repl.eagerEval.enabled\", True) # Property used to format output tables better\n",
    "spark\n",
    "df = spark.read.parquet(\"/tmp/spark/tarrant-tx.parquet\")\n",
    "\n",
    "# Property used to format output tables better\n",
    "# spark.conf.set(\"spark.sql.repl.eagerEval.enabled\", True)"
   ],
   "metadata": {
    "collapsed": false,
    "ExecuteTime": {
     "end_time": "2023-06-19T21:32:41.989579935Z",
     "start_time": "2023-06-19T21:32:38.978622899Z"
    }
   }
  },
  {
   "cell_type": "code",
   "execution_count": 4,
   "metadata": {
    "collapsed": true,
    "ExecuteTime": {
     "end_time": "2023-06-19T21:35:29.611718857Z",
     "start_time": "2023-06-19T21:35:24.030943072Z"
    }
   },
   "outputs": [
    {
     "name": "stderr",
     "output_type": "stream",
     "text": [
      "23/06/19 16:35:24 WARN Instrumentation: [6e755b76] regParam is zero, which might cause numerical instability and overfitting.\n",
      "[Stage 33:==========================================>             (12 + 4) / 16]\r"
     ]
    },
    {
     "name": "stdout",
     "output_type": "stream",
     "text": [
      "Root Mean Squared Error (RMSE): 74350.97\n"
     ]
    },
    {
     "name": "stderr",
     "output_type": "stream",
     "text": [
      "                                                                                \r"
     ]
    }
   ],
   "source": [
    "# Multi-Linear Regression\n",
    "from pyspark.ml.regression import LinearRegression\n",
    "from pyspark.ml.feature import VectorAssembler\n",
    "from pyspark.ml.evaluation import RegressionEvaluator\n",
    "from pyspark.sql.functions import col\n",
    "from udfs import percent_diff_udf\n",
    "\n",
    "# Define the feature columns\n",
    "numerical_features = ['Spec1', 'Spec2', 'Spec3', 'Spec4', 'Spec5', 'Total_Value']\n",
    "\n",
    "# Drop rows containing missing values in the columns for features data\n",
    "cleaned_numeric_df = df.dropna(subset=numerical_features)\n",
    "\n",
    "train_linear, test_linear = cleaned_numeric_df.randomSplit([0.7, 0.3])\n",
    "model_linear = LinearRegression(featuresCol='features', labelCol='Appraised_Value_Int')\n",
    "assembler = VectorAssembler(inputCols=numerical_features, outputCol='features')\n",
    "\n",
    "# Train\n",
    "train_linear = assembler.transform(train_linear)\n",
    "test_linear = assembler.transform(test_linear)\n",
    "linear_trained_model = model_linear.fit(train_linear)\n",
    "\n",
    "# Evaluate\n",
    "linear_predictions = linear_trained_model.transform(test_linear)\n",
    "evaluator = RegressionEvaluator(labelCol='Appraised_Value_Int', predictionCol='prediction', metricName='rmse')\n",
    "rmse = evaluator.evaluate(linear_predictions)\n",
    "\n",
    "# cast the predictions to integer and show the difference as integer and perentage\n",
    "linear_predictions = linear_predictions.withColumn('prediction_int', linear_predictions['prediction'].cast('int'))\n",
    "linear_predictions = linear_predictions.drop('prediction')\n",
    "linear_predictions = linear_predictions.withColumn('diff', col('Appraised_Value_Int') - col('prediction_int'))\n",
    "linear_predictions = linear_predictions.withColumn('diff_percent', percent_diff_udf(col('prediction_int'), col('Appraised_Value_Int')))\n",
    "\n",
    "# create the view with summary data\n",
    "linear_predictions.select('Account_Num', 'prediction_int', 'diff', 'diff_percent').createOrReplaceTempView(\"linear\")\n",
    "\n",
    "print(\"Root Mean Squared Error (RMSE):\", round(rmse, 2))\n",
    "\n",
    "# update the view for SQL queries\n",
    "df.createOrReplaceTempView(\"data\")"
   ]
  },
  {
   "cell_type": "code",
   "execution_count": 5,
   "outputs": [
    {
     "name": "stderr",
     "output_type": "stream",
     "text": [
      "                                                                                \r"
     ]
    },
    {
     "data": {
      "text/plain": "<Figure size 640x480 with 1 Axes>",
      "image/png": "[encoded data removed]"
     },
     "metadata": {},
     "output_type": "display_data"
    }
   ],
   "source": [
    "# let's take a look at some of the data\n",
    "# we group the diff_percent values so there aren't too many records to graph\n",
    "# also, here we are just looking at residential properties\n",
    "\n",
    "query = \"\"\"\n",
    "with summary as (\n",
    "  with src as (\n",
    "    select FLOOR(CAST(diff_percent as INT) / 20) * 20 AS diff_group\n",
    "    from linear\n",
    "    join data on data.Account_Num = linear.Account_Num\n",
    "    where data.RP = 'R'\n",
    "      and Appraised_Value_Int > 20000\n",
    "  )\n",
    "  select count(diff_group) as count, diff_group from src group by 2 order by 2 desc\n",
    ")\n",
    "select count, diff_group from summary where count > 100\n",
    "\"\"\"\n",
    "res = spark.sql(query)\n",
    "# res.show()\n",
    "\n",
    "# graph it show how the predictions differ from the current appraisal values\n",
    "import matplotlib.pyplot as plt\n",
    "import pandas as pd\n",
    "pandas_df = res.toPandas()\n",
    "plt.bar(pandas_df['diff_group'], pandas_df['count'], color='blue', width=8)\n",
    "plt.xlabel('diff_group')\n",
    "plt.ylabel('count')\n",
    "plt.title('Prediction Diff (longest line should be over \"0\")') # .. which would indicate more accurate prediction\n",
    "plt.show()"
   ],
   "metadata": {
    "collapsed": false,
    "ExecuteTime": {
     "end_time": "2023-06-19T21:35:37.884009037Z",
     "start_time": "2023-06-19T21:35:34.536341515Z"
    }
   }
  }
 ],
 "metadata": {
  "kernelspec": {
   "display_name": "Python 3",
   "language": "python",
   "name": "python3"
  },
  "language_info": {
   "codemirror_mode": {
    "name": "ipython",
    "version": 2
   },
   "file_extension": ".py",
   "mimetype": "text/x-python",
   "name": "python",
   "nbconvert_exporter": "python",
   "pygments_lexer": "ipython2",
   "version": "2.7.6"
  }
 },
 "nbformat": 4,
 "nbformat_minor": 0
}
