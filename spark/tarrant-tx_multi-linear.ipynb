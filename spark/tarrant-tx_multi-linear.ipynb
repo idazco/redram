{
 "cells": [
  {
   "cell_type": "code",
   "execution_count": 43,
   "outputs": [],
   "source": [
    "# Get the data from the parquet file\n",
    "\n",
    "from pyspark.sql import SparkSession\n",
    "# memory issues .. see https://stackoverflow.com/questions/21138751/spark-java-lang-outofmemoryerror-java-heap-space\n",
    "spark = SparkSession.builder.master(\"local[*]\").appName(\"PropertyData\").getOrCreate()\n",
    "spark.conf.set(\"spark.sql.repl.eagerEval.enabled\", True) # Property used to format output tables better\n",
    "spark\n",
    "df = spark.read.parquet(\"/tmp/spark/tarrant-tx.parquet\")\n",
    "\n",
    "# Property used to format output tables better\n",
    "# spark.conf.set(\"spark.sql.repl.eagerEval.enabled\", True)"
   ],
   "metadata": {
    "collapsed": false,
    "ExecuteTime": {
     "end_time": "2023-06-20T22:27:08.613613476Z",
     "start_time": "2023-06-20T22:27:08.541387402Z"
    }
   }
  },
  {
   "cell_type": "code",
   "execution_count": 47,
   "metadata": {
    "collapsed": true,
    "ExecuteTime": {
     "end_time": "2023-06-20T22:27:56.113426417Z",
     "start_time": "2023-06-20T22:27:53.844432625Z"
    }
   },
   "outputs": [
    {
     "name": "stderr",
     "output_type": "stream",
     "text": [
      "23/06/20 17:27:53 WARN Instrumentation: [2408bb43] regParam is zero, which might cause numerical instability and overfitting.\n",
      "23/06/20 17:27:54 WARN Instrumentation: [2408bb43] Cholesky solver failed due to singular covariance matrix. Retrying with Quasi-Newton solver.\n",
      "                                                                                \r"
     ]
    },
    {
     "name": "stdout",
     "output_type": "stream",
     "text": [
      "Root Mean Squared Error (RMSE): 38544.96\n"
     ]
    },
    {
     "name": "stderr",
     "output_type": "stream",
     "text": [
      "                                                                                \r"
     ]
    }
   ],
   "source": [
    "# Multi-Linear Regression\n",
    "from pyspark.ml.regression import LinearRegression\n",
    "from pyspark.ml.feature import VectorAssembler\n",
    "from pyspark.ml.evaluation import RegressionEvaluator\n",
    "from pyspark.sql.functions import col\n",
    "from udfs import percent_diff_udf\n",
    "\n",
    "# Define the feature columns\n",
    "numerical_features = ['County', 'City', 'School', 'Total_Value']\n",
    "\n",
    "# Drop rows containing missing values in the columns for features data,\n",
    "cleaned_numeric_df = df.dropna(subset=numerical_features)\n",
    "# and keep only those rows that are residential properties in a certain value range\n",
    "cleaned_numeric_df = cleaned_numeric_df.where(\"(Total_Value between 100000 and 500000) and (RP = 'R')\")\n",
    "\n",
    "train_linear, test_linear = cleaned_numeric_df.randomSplit([0.5, 0.5])\n",
    "model_linear = LinearRegression(featuresCol='features', labelCol='Appraised_Value_Int')\n",
    "assembler = VectorAssembler(inputCols=numerical_features, outputCol='features')\n",
    "\n",
    "# Train\n",
    "train_linear = assembler.transform(train_linear)\n",
    "test_linear = assembler.transform(test_linear)\n",
    "linear_trained_model = model_linear.fit(train_linear)\n",
    "\n",
    "# Evaluate\n",
    "predictions = linear_trained_model.transform(test_linear)\n",
    "evaluator = RegressionEvaluator(labelCol='Appraised_Value_Int', predictionCol='prediction', metricName='rmse')\n",
    "rmse = evaluator.evaluate(predictions)\n",
    "\n",
    "# cast the predictions to integer and show the difference as integer and percentage\n",
    "predictions = predictions.withColumn('prediction_int', predictions['prediction'].cast('int'))\n",
    "predictions = predictions.drop('prediction')\n",
    "predictions = predictions.withColumn('diff', col('Appraised_Value_Int') - col('prediction_int'))\n",
    "predictions = predictions.withColumn('diff_percent', percent_diff_udf(col('prediction_int'), col('Appraised_Value_Int')))\n",
    "\n",
    "# create the view with summary data\n",
    "predictions.select('Account_Num', 'prediction_int', 'diff', 'diff_percent').createOrReplaceTempView(\"predictions\")\n",
    "\n",
    "print(\"Root Mean Squared Error (RMSE):\", round(rmse, 2))\n",
    "\n",
    "# update the view for SQL queries\n",
    "df.createOrReplaceTempView(\"data\")"
   ]
  },
  {
   "cell_type": "code",
   "execution_count": 48,
   "outputs": [
    {
     "name": "stderr",
     "output_type": "stream",
     "text": [
      "                                                                                \r"
     ]
    },
    {
     "data": {
      "text/plain": "<Figure size 640x480 with 1 Axes>",
      "image/png": "[encoded data removed]"
     },
     "metadata": {},
     "output_type": "display_data"
    }
   ],
   "source": [
    "# let's take a look at some of the data\n",
    "# we group the diff_percent values so there aren't too many records to graph\n",
    "# also, here we are just looking at residential properties\n",
    "\n",
    "query = \"\"\"\n",
    "with summary as (\n",
    "  with src as (\n",
    "    select FLOOR(CAST(diff_percent as INT) / 20) * 20 AS diff_group\n",
    "    from predictions\n",
    "    join data on data.Account_Num = predictions.Account_Num\n",
    "    where data.RP = 'R'\n",
    "      and Appraised_Value_Int > 20000\n",
    "  )\n",
    "  select count(diff_group) as count, diff_group from src group by 2 order by 2 desc\n",
    ")\n",
    "select count, diff_group from summary where count > 100\n",
    "\"\"\"\n",
    "res = spark.sql(query)\n",
    "# res.show()\n",
    "\n",
    "# graph it show how the predictions differ from the current appraisal values\n",
    "import matplotlib.pyplot as plt\n",
    "pandas_df = res.toPandas()\n",
    "plt.bar(pandas_df['diff_group'], pandas_df['count'], color='blue', width=8)\n",
    "plt.xlabel('diff_group')\n",
    "plt.ylabel('count')\n",
    "plt.title('Prediction Diff (longest line should be over \"0\")') # .. which would indicate more accurate prediction\n",
    "plt.show()"
   ],
   "metadata": {
    "collapsed": false,
    "ExecuteTime": {
     "end_time": "2023-06-20T22:28:03.635326264Z",
     "start_time": "2023-06-20T22:28:02.519496667Z"
    }
   }
  }
 ],
 "metadata": {
  "kernelspec": {
   "display_name": "Python 3",
   "language": "python",
   "name": "python3"
  },
  "language_info": {
   "codemirror_mode": {
    "name": "ipython",
    "version": 2
   },
   "file_extension": ".py",
   "mimetype": "text/x-python",
   "name": "python",
   "nbconvert_exporter": "python",
   "pygments_lexer": "ipython2",
   "version": "2.7.6"
  }
 },
 "nbformat": 4,
 "nbformat_minor": 0
}
